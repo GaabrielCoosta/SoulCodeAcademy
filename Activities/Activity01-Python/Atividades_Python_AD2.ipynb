{
  "nbformat": 4,
  "nbformat_minor": 0,
  "metadata": {
    "colab": {
      "provenance": [],
      "authorship_tag": "ABX9TyMJjEFq3EXpJp73V1KjP53P",
      "include_colab_link": true
    },
    "kernelspec": {
      "name": "python3",
      "display_name": "Python 3"
    },
    "language_info": {
      "name": "python"
    }
  },
  "cells": [
    {
      "cell_type": "markdown",
      "metadata": {
        "id": "view-in-github",
        "colab_type": "text"
      },
      "source": [
        "<a href=\"https://colab.research.google.com/github/GaabrielCoosta/SoulCodeAcademy/blob/main/Atividades_Python_AD2.ipynb\" target=\"_parent\"><img src=\"https://colab.research.google.com/assets/colab-badge.svg\" alt=\"Open In Colab\"/></a>"
      ]
    },
    {
      "cell_type": "markdown",
      "source": [
        "# Atividade Turma AD2 - Python\n",
        "*   Escola: SoulCode Academy\n",
        "*  Curso: Bootcamp Analista de Dados - Martech - AD2\n",
        "*   Período: Semana 4\n",
        "*   Professor: Franciane Rodrigues\n",
        "*   Aluno: Gabriel Costa Andrade\n",
        "\n",
        "\n",
        "\n"
      ],
      "metadata": {
        "id": "kMLFNAnMVFY2"
      }
    },
    {
      "cell_type": "markdown",
      "source": [
        "#Atividade 01"
      ],
      "metadata": {
        "id": "mws-3qbKhCOk"
      }
    },
    {
      "cell_type": "markdown",
      "source": [
        "####ATENÇÃO!\n",
        "- EXECUTE AS CÉLULAS DE IMPORTAÇÃO DE BIBLIOTECAS E DAS FUNÇÕES CRIADAS!"
      ],
      "metadata": {
        "id": "IHg0AVqvWwEG"
      }
    },
    {
      "cell_type": "markdown",
      "source": [
        "### Célula das Bibliotecas"
      ],
      "metadata": {
        "id": "4yL4CogYhevq"
      }
    },
    {
      "cell_type": "code",
      "source": [
        "from rich.console import Console #Biblioteca para formatação de exibição\n",
        "\n",
        "# Execução do função Console da biblioteca rich\n",
        "console = Console()\n"
      ],
      "metadata": {
        "id": "87oJ06JwWfCs"
      },
      "execution_count": 3,
      "outputs": []
    },
    {
      "cell_type": "markdown",
      "source": [
        "### Célula das funções que serão utilizadas nos exercícios!"
      ],
      "metadata": {
        "id": "YjxnoQBcRejT"
      }
    },
    {
      "cell_type": "code",
      "source": [
        "# Funções criadas para utilização nas atividade\n",
        "\n",
        "# Função formatadora de titulos\n",
        "def titulo(txt):\n",
        "    print('-'*70)\n",
        "    print(f'{txt:^70}')\n",
        "    print('-'*70)\n",
        "\n",
        "# Função em loop infito, até que o usuário digite um número do tipo float\n",
        "def ler_numero_float(mensagem):\n",
        "    while True:\n",
        "        try:\n",
        "            numero = float(input(mensagem))\n",
        "            return numero\n",
        "        except ValueError:\n",
        "            print(\"Erro: Insira um número válido.\")\n",
        "\n",
        "# Função em loop infinito, até que o usuário digite um número do tipo int\n",
        "def ler_numero_int(mensagem):\n",
        "    while True:\n",
        "        try:\n",
        "            numero = int(input(mensagem))\n",
        "            return numero\n",
        "        except ValueError:\n",
        "            print(\"Erro: Insira um número válido.\")\n"
      ],
      "metadata": {
        "id": "npojOnAaQRfx"
      },
      "execution_count": 4,
      "outputs": []
    },
    {
      "cell_type": "markdown",
      "source": [
        "### 1. Faça um algoritmo que leia um número inteiro e diga se ele é maior, menor ou igual a 10;\n",
        "\n",
        "\n"
      ],
      "metadata": {
        "id": "wtKZr6qeVV3G"
      }
    },
    {
      "cell_type": "code",
      "source": [
        "titulo('Maior, menor ou igual a 10')\n",
        "\n",
        "# Armazenamento a partir da função \"ler_numero\"\n",
        "n1 = ler_numero_int(\"Digite um número intiero: \")\n",
        "\n",
        "# Condições a serem atendidas\n",
        "if n1 > 10:\n",
        "  console.print(f\"-> Número informado: {n1}, é maior que 10!\")\n",
        "elif n1 == 10:\n",
        "  console.print(f\"-> Número informado: {n1}, é igual à 10!\")\n",
        "else:\n",
        "  console.print(f\"-> Número informado: {n1}, é menor que 10!\")"
      ],
      "metadata": {
        "colab": {
          "base_uri": "https://localhost:8080/",
          "height": 102
        },
        "id": "fv7vZ0GBU9rW",
        "outputId": "906a8604-3762-488f-90ba-fe3a67c12129"
      },
      "execution_count": null,
      "outputs": [
        {
          "name": "stdout",
          "output_type": "stream",
          "text": [
            "----------------------------------------------------------------------\n",
            "                      Maior, menor ou igual a 10                      \n",
            "----------------------------------------------------------------------\n",
            "Digite um número intiero: 9\n"
          ]
        },
        {
          "output_type": "display_data",
          "data": {
            "text/plain": [
              "-> Número informado: \u001b[1;36m9\u001b[0m, é menor que \u001b[1;36m10\u001b[0m!\n"
            ],
            "text/html": [
              "<pre style=\"white-space:pre;overflow-x:auto;line-height:normal;font-family:Menlo,'DejaVu Sans Mono',consolas,'Courier New',monospace\">-&gt; Número informado: <span style=\"color: #008080; text-decoration-color: #008080; font-weight: bold\">9</span>, é menor que <span style=\"color: #008080; text-decoration-color: #008080; font-weight: bold\">10</span>!\n",
              "</pre>\n"
            ]
          },
          "metadata": {}
        }
      ]
    },
    {
      "cell_type": "markdown",
      "source": [
        "###2. Faça um algoritmo que leia dois números inteiros e apresente na tela o maior deles ou se eles são iguais;"
      ],
      "metadata": {
        "id": "p6YLVlnxXXK_"
      }
    },
    {
      "cell_type": "code",
      "source": [
        "titulo(\"Informe dois números e veja qual deles é maior!\")\n",
        "\n",
        "# Entrada de valores a partir da função \"ler_numero_int\"\n",
        "n1 = ler_numero_int(\"Digite o primeiro número inteiro: \")\n",
        "n2 = ler_numero_int(\"Digite o segundo número inteiro: \")\n",
        "\n",
        "# Condições\n",
        "if n1 > n2:\n",
        "  console.print(\n",
        "      f\"-> Primeiro número: {n1},\\n é maior que o segundo: {n2}\"\n",
        "      )\n",
        "elif n2 > n1:\n",
        "  console.print(\n",
        "      f\"-> O segundo número: {n2}, é maior que o primeiro número de valor: {n1}\"\n",
        "      )\n",
        "else:\n",
        "  console.print(\n",
        "      f\"-> Primeiro e segundo número, são iguais à: {n1}!\"\n",
        "      )"
      ],
      "metadata": {
        "colab": {
          "base_uri": "https://localhost:8080/",
          "height": 120
        },
        "id": "nTTlwbPbW_Xl",
        "outputId": "4f854ae2-8d37-41b8-d4c7-5113d59e5698"
      },
      "execution_count": 5,
      "outputs": [
        {
          "name": "stdout",
          "output_type": "stream",
          "text": [
            "----------------------------------------------------------------------\n",
            "           Informe dois números e veja qual deles é maior!            \n",
            "----------------------------------------------------------------------\n",
            "Digite o primeiro número inteiro: 5\n",
            "Digite o segundo número inteiro: 7\n"
          ]
        },
        {
          "output_type": "display_data",
          "data": {
            "text/plain": [
              "-> O segundo número: \u001b[1;36m7\u001b[0m, é maior que o primeiro número de valor: \u001b[1;36m5\u001b[0m\n"
            ],
            "text/html": [
              "<pre style=\"white-space:pre;overflow-x:auto;line-height:normal;font-family:Menlo,'DejaVu Sans Mono',consolas,'Courier New',monospace\">-&gt; O segundo número: <span style=\"color: #008080; text-decoration-color: #008080; font-weight: bold\">7</span>, é maior que o primeiro número de valor: <span style=\"color: #008080; text-decoration-color: #008080; font-weight: bold\">5</span>\n",
              "</pre>\n"
            ]
          },
          "metadata": {}
        }
      ]
    },
    {
      "cell_type": "markdown",
      "source": [
        "###3. Crie um algoritmo que leia um número e diga se ele está no intervalo fechado entre 25 e 200;"
      ],
      "metadata": {
        "id": "6iU5I71AZKro"
      }
    },
    {
      "cell_type": "code",
      "source": [
        "titulo(\"Informe um número e veja, esta contido entre 25 e 200\")\n",
        "\n",
        "# Entrada de valores a partir da função \"ler_numero\"\n",
        "n1 = ler_numero_float(\"Digite um valor: \")\n",
        "\n",
        "# Condições\n",
        "if 25 <= n1 <= 200:\n",
        "  console.print(f\"-> Número informado: {n1:.2f}, está no intervalo fechado entre 25 e 200!\")\n",
        "else:\n",
        "  console.print(f\"-> Número informado: {n1:.2f}, não está no intervalo fechado entre 25 e 200!\")"
      ],
      "metadata": {
        "colab": {
          "base_uri": "https://localhost:8080/",
          "height": 102
        },
        "id": "hnGkIfN8YqTZ",
        "outputId": "229673df-d6d0-49b2-8f4e-e34c3e2f412d"
      },
      "execution_count": null,
      "outputs": [
        {
          "name": "stdout",
          "output_type": "stream",
          "text": [
            "----------------------------------------------------------------------\n",
            "        Informe um número e veja, esta contido entre 25 e 200         \n",
            "----------------------------------------------------------------------\n",
            "Digite um valor: 25\n"
          ]
        },
        {
          "output_type": "display_data",
          "data": {
            "text/plain": [
              "Número informado: \u001b[1;36m25.00\u001b[0m, está no intervalo fechado entre \u001b[1;36m25\u001b[0m e \u001b[1;36m200\u001b[0m!\n"
            ],
            "text/html": [
              "<pre style=\"white-space:pre;overflow-x:auto;line-height:normal;font-family:Menlo,'DejaVu Sans Mono',consolas,'Courier New',monospace\">Número informado: <span style=\"color: #008080; text-decoration-color: #008080; font-weight: bold\">25.00</span>, está no intervalo fechado entre <span style=\"color: #008080; text-decoration-color: #008080; font-weight: bold\">25</span> e <span style=\"color: #008080; text-decoration-color: #008080; font-weight: bold\">200</span>!\n",
              "</pre>\n"
            ]
          },
          "metadata": {}
        }
      ]
    },
    {
      "cell_type": "markdown",
      "source": [
        "###4. Crie um algoritmo que leia um número e informe na tela se o mesmo é positivo.\n",
        "###- Caso seja, mostre o número na tela;"
      ],
      "metadata": {
        "id": "W2qY8-VialTg"
      }
    },
    {
      "cell_type": "code",
      "source": [
        "titulo(\"Informe um número e veja se ele é positivo!\")\n",
        "\n",
        "# Variavel a ser verificada\n",
        "n1 = ler_numero_float(\"Informe um número qualquer: \")\n",
        "\n",
        "# Condições\n",
        "if n1 > 0:\n",
        "  console.print(f\"-> O número informado: {n1}, é positivo!\")\n",
        "else:\n",
        "  console.print(\"-> Número informado [bold][red]não[/] é positivo!\")\n",
        "\n"
      ],
      "metadata": {
        "colab": {
          "base_uri": "https://localhost:8080/",
          "height": 102
        },
        "id": "aXQhA4mHas1O",
        "outputId": "0ff647ce-7d18-47a2-b197-fac2b9655851"
      },
      "execution_count": null,
      "outputs": [
        {
          "name": "stdout",
          "output_type": "stream",
          "text": [
            "----------------------------------------------------------------------\n",
            "             Informe um número e veja se ele é positivo!              \n",
            "----------------------------------------------------------------------\n",
            "Informe um número qualquer: -11\n"
          ]
        },
        {
          "output_type": "display_data",
          "data": {
            "text/plain": [
              "Número informado \u001b[1;31mnão\u001b[0m\u001b[1m é positivo!\u001b[0m\n"
            ],
            "text/html": [
              "<pre style=\"white-space:pre;overflow-x:auto;line-height:normal;font-family:Menlo,'DejaVu Sans Mono',consolas,'Courier New',monospace\">Número informado <span style=\"color: #800000; text-decoration-color: #800000; font-weight: bold\">não</span><span style=\"font-weight: bold\"> é positivo!</span>\n",
              "</pre>\n"
            ]
          },
          "metadata": {}
        }
      ]
    },
    {
      "cell_type": "markdown",
      "source": [
        "###5. Crie um algoritmo que leia um número e informe se ele é divisível por 7."
      ],
      "metadata": {
        "id": "XBnj_P5jcF4B"
      }
    },
    {
      "cell_type": "code",
      "source": [
        "titulo(\"Informe um número qualquer e veja se ele é divísivel por 7\")\n",
        "\n",
        "# Variavel a ser verificada\n",
        "n1 = ler_numero_float(\"Digite um número qualquer: \")\n",
        "\n",
        "# Condições\n",
        "if n1 % 7 == 0:\n",
        "  console.print(f\"-> Número {n1:.0f}, é divisível por 7!\")\n",
        "else:\n",
        "  console.print(f\"-> Número {n1:.0f}, não é divisível por 7!\")"
      ],
      "metadata": {
        "colab": {
          "base_uri": "https://localhost:8080/",
          "height": 102
        },
        "id": "fvh_92Jdbi7r",
        "outputId": "47de5fab-553f-40fb-b445-b02393185b54"
      },
      "execution_count": null,
      "outputs": [
        {
          "name": "stdout",
          "output_type": "stream",
          "text": [
            "----------------------------------------------------------------------\n",
            "      Informe um número qualquer e veja se ele é divísivel por 7      \n",
            "----------------------------------------------------------------------\n",
            "Digite um número qualquer: 21\n"
          ]
        },
        {
          "output_type": "display_data",
          "data": {
            "text/plain": [
              "Número \u001b[1;36m21\u001b[0m, é divisível por \u001b[1;36m7\u001b[0m!\n"
            ],
            "text/html": [
              "<pre style=\"white-space:pre;overflow-x:auto;line-height:normal;font-family:Menlo,'DejaVu Sans Mono',consolas,'Courier New',monospace\">Número <span style=\"color: #008080; text-decoration-color: #008080; font-weight: bold\">21</span>, é divisível por <span style=\"color: #008080; text-decoration-color: #008080; font-weight: bold\">7</span>!\n",
              "</pre>\n"
            ]
          },
          "metadata": {}
        }
      ]
    },
    {
      "cell_type": "markdown",
      "source": [
        "###6. Crie um algoritmo que leia um número e diga se ele é par ou ímpar."
      ],
      "metadata": {
        "id": "JC1IcwosdVVa"
      }
    },
    {
      "cell_type": "code",
      "source": [
        "titulo(\"Par ou Ímpar ?\")\n",
        "\n",
        "# Variavel a ser verificada\n",
        "n1 = ler_numero_float(\"Informe um número e veja se ele é par ou ímpar: \")\n",
        "\n",
        "# Condições\n",
        "if n1 % 2 == 0 and n1 != 0:\n",
        "  console.print(f\"-> Número: {n1:.0f}, é par!\")\n",
        "elif n1 == 0:\n",
        "  console.print(f\"-> Número: {n1:.0f}, é neutro!\")\n",
        "else:\n",
        "  console.print(f\"-> Número: {n1:.0f}, é impar!\")"
      ],
      "metadata": {
        "colab": {
          "base_uri": "https://localhost:8080/",
          "height": 102
        },
        "id": "_fyyU7Rkc9Js",
        "outputId": "fea7f98c-84ba-401c-f675-64a2ed11491e"
      },
      "execution_count": null,
      "outputs": [
        {
          "name": "stdout",
          "output_type": "stream",
          "text": [
            "----------------------------------------------------------------------\n",
            "                            Par ou Ímpar ?                            \n",
            "----------------------------------------------------------------------\n",
            "Informe um número e veja se ele é par ou ímpar: 20\n"
          ]
        },
        {
          "output_type": "display_data",
          "data": {
            "text/plain": [
              "-> Número: \u001b[1;36m20\u001b[0m, é par!\n"
            ],
            "text/html": [
              "<pre style=\"white-space:pre;overflow-x:auto;line-height:normal;font-family:Menlo,'DejaVu Sans Mono',consolas,'Courier New',monospace\">-&gt; Número: <span style=\"color: #008080; text-decoration-color: #008080; font-weight: bold\">20</span>, é par!\n",
              "</pre>\n"
            ]
          },
          "metadata": {}
        }
      ]
    },
    {
      "cell_type": "markdown",
      "source": [
        "###7. Escreva um programa em Python que solicite ao usuário que digite uma letra.\n",
        "###- Em seguida, verifique se a letra digitada é uma vogal ou não."
      ],
      "metadata": {
        "id": "IIDF40KZeufy"
      }
    },
    {
      "cell_type": "code",
      "source": [
        "# Titutlo\n",
        "print('-'*70)\n",
        "print(f'{\"VERIFICADOR DE VOGAIS\":^70}')\n",
        "print('-'*70)\n",
        "\n",
        "# Loop infito com unica saída, para tratamento de erros de digitação do usuário\n",
        "while True:\n",
        "\n",
        "  letra = str(input(\"Digite uma letra qualquer e veja se ela é uma vagal: \")).strip().upper()\n",
        "  if len(letra) > 1:\n",
        "    print(\"Por favor, digitar somente uma letra\")\n",
        "\n",
        "  if len(letra) == 1:\n",
        "    break\n",
        "\n",
        "if letra in 'AEIOU':\n",
        "  console.print(f\"Letra: {letra}, é uma vogal!\", style=\"#008080\")\n",
        "else:\n",
        "  console.print(f\"Letra: {letra}, é uma consoante!\", style=\"#008080\")\n"
      ],
      "metadata": {
        "colab": {
          "base_uri": "https://localhost:8080/",
          "height": 102
        },
        "id": "lQpgX8iGeGlV",
        "outputId": "75489f59-9827-4ba6-c129-b174e2948009"
      },
      "execution_count": null,
      "outputs": [
        {
          "name": "stdout",
          "output_type": "stream",
          "text": [
            "----------------------------------------------------------------------\n",
            "                        VERIFICADOR DE VOGAIS                         \n",
            "----------------------------------------------------------------------\n",
            "Digite uma letra qualquer e veja se ela é uma vagal: a\n"
          ]
        },
        {
          "output_type": "display_data",
          "data": {
            "text/plain": [
              "\u001b[38;2;0;128;128mLetra: A, é uma vogal!\u001b[0m\n"
            ],
            "text/html": [
              "<pre style=\"white-space:pre;overflow-x:auto;line-height:normal;font-family:Menlo,'DejaVu Sans Mono',consolas,'Courier New',monospace\"><span style=\"color: #008080; text-decoration-color: #008080\">Letra: A, é uma vogal!</span>\n",
              "</pre>\n"
            ]
          },
          "metadata": {}
        }
      ]
    },
    {
      "cell_type": "markdown",
      "source": [
        "###8. Escreva um programa que solicite ao usuário três notas de um aluno e calcule a média.\n",
        "###- Em seguida, exiba a média e uma mensagem informando se o aluno foi aprovado:\n",
        "###- (média maior ou igual a 7) ou reprovado."
      ],
      "metadata": {
        "id": "8tU75rDohkoN"
      }
    },
    {
      "cell_type": "code",
      "source": [
        "print(\"================== BOLETIM ESCULAR ==================\")\n",
        "\n",
        "# Variaveis para armazenamento de notas\n",
        "n1 = ler_numero_float(\"Informe a primeira nota do aluno: \")\n",
        "n2 = ler_numero_float(\"Informe a primeira nota do aluno: \")\n",
        "n3 = ler_numero_float(\"Informe a primeira nota do aluno: \")\n",
        "media = (n1+n2+n3)/3\n",
        "\n",
        "# Condições para saber se ele foi aprovado\n",
        "if media >= 7:\n",
        "  console.print(f\"A média do aluno foi {media:.2f}, e ele está [bold][blue]aprovado![/]\")\n",
        "else:\n",
        "  console.print(f\"A média do aluno foi: {media:.2f}, e ele [bold][red]não[/] foi aprovado!\")"
      ],
      "metadata": {
        "colab": {
          "base_uri": "https://localhost:8080/",
          "height": 102
        },
        "id": "jilMibq1hZEG",
        "outputId": "1786c69f-d05a-4bb9-8069-3a14083e9c4e"
      },
      "execution_count": null,
      "outputs": [
        {
          "name": "stdout",
          "output_type": "stream",
          "text": [
            "================== BOLETIM ESCULAR ==================\n",
            "Informe a primeira nota do aluno: 7.5\n",
            "Informe a primeira nota do aluno: 6\n",
            "Informe a primeira nota do aluno: 8\n"
          ]
        },
        {
          "output_type": "display_data",
          "data": {
            "text/plain": [
              "A média do aluno foi \u001b[1;36m7.17\u001b[0m, e ele está \u001b[1;34maprovado!\u001b[0m\n"
            ],
            "text/html": [
              "<pre style=\"white-space:pre;overflow-x:auto;line-height:normal;font-family:Menlo,'DejaVu Sans Mono',consolas,'Courier New',monospace\">A média do aluno foi <span style=\"color: #008080; text-decoration-color: #008080; font-weight: bold\">7.17</span>, e ele está <span style=\"color: #000080; text-decoration-color: #000080; font-weight: bold\">aprovado!</span>\n",
              "</pre>\n"
            ]
          },
          "metadata": {}
        }
      ]
    },
    {
      "cell_type": "markdown",
      "source": [
        "###9. Escreva um programa que solicite ao usuário os comprimentos dos três lados de um triângulo.\n",
        "###- Em seguida, exiba uma mensagem informando se o triângulo é:\n",
        "####- equilátero (todos os lados iguais)\n",
        "####- isósceles (dois lados iguais) ou escaleno (todos os lados diferentes)."
      ],
      "metadata": {
        "id": "_-wmmeA9pxCr"
      }
    },
    {
      "cell_type": "code",
      "source": [
        "print(\"=============== FORMADOR DE TRIÂNGULOS =================\")\n",
        "\n",
        "# Exibição dos 3 seguimentos inseridos em metros\n",
        "r1 = ler_numero_float(\"Digite o valor, em metros, do primeiro seguimento de reta: \")\n",
        "r2 = ler_numero_float(\"Digite o valor, em metros, do segundo seguimento de reta: \")\n",
        "r3 = ler_numero_float(\"Digite o valor, em metros, do terceiro seguimento de reta: \")\n",
        "\n",
        "# Condições para uma possível criação de um triângulo\n",
        "# à partir dos valores inseridos pelo usuário\n",
        "if r1 < r2+r3 and r2 < r1+r3 and r3 < r1+r2:\n",
        "    console.print(\"É POSSÍVEL FORMAR UM TRIÂNGULO\", style=\"#ccc010 bold\")\n",
        "    print(f\"- Primeiro seguimento de reta: {r1:.2f} mt\")\n",
        "    print(f\"- Segundo seguimento de reta: {r2:.2f} mt\")\n",
        "    print(f\"- Terceiro seguimento de reta: {r3:.2f} mt\")\n",
        "    if r1 == r2 == r3:\n",
        "        console.print(\"O TRIÂNGULO FORMADO É EQUILÁTERO!\", style=\"#ccc010 bold\")\n",
        "    elif r1 == r2 and r1 != r3:\n",
        "        console.print(\"O TRIÂNGULO FORMADO É ISÓSCELES!\", style=\"#ccc010 bold\")\n",
        "    elif r1 == r3 and r1 != r2:\n",
        "        console.print(\"O TRIÂNGULO FORMADO É ISÓSCELES!\", style=\"#ccc010 bold\")\n",
        "    elif r2 == r3 and r2 != r1:\n",
        "        console.print(\"O TRIÂNGULO FORMADO É ISÓSCELES!\", style=\"#ccc010 bold\")\n",
        "    elif r1 != r2 and r1 != r3 and r2 != r3:\n",
        "        console.print(\"O TRIÂNGULO FORMADO É ESCALENO!\", style=\"#ccc010 bold\")\n",
        "else:\n",
        "    console.print(\"NÃO É POSSÍVEL FORMAR UM TRIÂNGULO\", style=\"#ccc010 bold\")\n"
      ],
      "metadata": {
        "colab": {
          "base_uri": "https://localhost:8080/",
          "height": 205
        },
        "id": "6Lelopg69GHa",
        "outputId": "e6e73e48-e4f9-4f32-df6c-4b31744c2a5a"
      },
      "execution_count": null,
      "outputs": [
        {
          "name": "stdout",
          "output_type": "stream",
          "text": [
            "=============== FORMADOR DE TRIÂNGULOS =================\n",
            "Digite o valor, em metros, do primeiro seguimento de reta: hs\n",
            "Erro: Insira um número válido.\n",
            "Digite o valor, em metros, do primeiro seguimento de reta: 3\n",
            "Digite o valor, em metros, do segundo seguimento de reta: 3\n",
            "Digite o valor, em metros, do terceiro seguimento de reta: 5\n"
          ]
        },
        {
          "output_type": "display_data",
          "data": {
            "text/plain": [
              "\u001b[1;38;2;204;192;16mÉ POSSÍVEL FORMAR UM TRIÂNGULO\u001b[0m\n"
            ],
            "text/html": [
              "<pre style=\"white-space:pre;overflow-x:auto;line-height:normal;font-family:Menlo,'DejaVu Sans Mono',consolas,'Courier New',monospace\"><span style=\"color: #ccc010; text-decoration-color: #ccc010; font-weight: bold\">É POSSÍVEL FORMAR UM TRIÂNGULO</span>\n",
              "</pre>\n"
            ]
          },
          "metadata": {}
        },
        {
          "output_type": "stream",
          "name": "stdout",
          "text": [
            "- Primeiro seguimento de reta: 3.00 mt\n",
            "- Segundo seguimento de reta: 3.00 mt\n",
            "- Terceiro seguimento de reta: 5.00 mt\n"
          ]
        },
        {
          "output_type": "display_data",
          "data": {
            "text/plain": [
              "\u001b[1;38;2;204;192;16mO TRIÂNGULO FORMADO É ISÓSCELES!\u001b[0m\n"
            ],
            "text/html": [
              "<pre style=\"white-space:pre;overflow-x:auto;line-height:normal;font-family:Menlo,'DejaVu Sans Mono',consolas,'Courier New',monospace\"><span style=\"color: #ccc010; text-decoration-color: #ccc010; font-weight: bold\">O TRIÂNGULO FORMADO É ISÓSCELES!</span>\n",
              "</pre>\n"
            ]
          },
          "metadata": {}
        }
      ]
    },
    {
      "cell_type": "markdown",
      "source": [
        "###10. Escreva um programa que solicite ao usuário sua idade e exiba uma mensagem informando em qual faixa etária ele se encontra:\n",
        "- criança (0-12 anos)\n",
        "- adolescente (13-17 anos)\n",
        "- adulto (18-59 anos)\n",
        "- idoso (60 anos ou mais).\n",
        "\n",
        "\n",
        "\n"
      ],
      "metadata": {
        "id": "HJsXqix82VUg"
      }
    },
    {
      "cell_type": "code",
      "source": [
        "\n",
        "titulo(\"Em qual fase da sua vida você encontra?\") # titutlo\n",
        "age  = ler_numero_int(\"Informe sua idade: \") # variavel a ser avaliada\n",
        "\n",
        "# Condições\n",
        "if 0 <= age <= 12:\n",
        "  console.print('Vocé ainda é uma criança!', style=\"#008080\")\n",
        "elif 13<= age <= 17:\n",
        "  console.print('Você ainda é um adolecente!', style=\"#008080\")\n",
        "elif 18 <= age <= 59:\n",
        "  console.print('Voce ainda é uma pessoa adulta, aproveite a vida!', style=\"#008080\")\n",
        "else:\n",
        "  console.print('Hora de cuidar mais da saude! Você ja é um idoso!', style=\"#008080\")\n",
        "\n"
      ],
      "metadata": {
        "colab": {
          "base_uri": "https://localhost:8080/",
          "height": 102
        },
        "id": "p0Eos7MPtgoQ",
        "outputId": "4ab1a148-1008-4019-9b55-25eae26b95c9"
      },
      "execution_count": null,
      "outputs": [
        {
          "name": "stdout",
          "output_type": "stream",
          "text": [
            "----------------------------------------------------------------------\n",
            "               Em qual fase da sua vida você encontra?                \n",
            "----------------------------------------------------------------------\n",
            "Informe sua idade: 70\n"
          ]
        },
        {
          "output_type": "display_data",
          "data": {
            "text/plain": [
              "\u001b[38;2;0;128;128mHora de cuidar mais da saude! Você ja é um idoso!\u001b[0m\n"
            ],
            "text/html": [
              "<pre style=\"white-space:pre;overflow-x:auto;line-height:normal;font-family:Menlo,'DejaVu Sans Mono',consolas,'Courier New',monospace\"><span style=\"color: #008080; text-decoration-color: #008080\">Hora de cuidar mais da saude! Você ja é um idoso!</span>\n",
              "</pre>\n"
            ]
          },
          "metadata": {}
        }
      ]
    }
  ]
}